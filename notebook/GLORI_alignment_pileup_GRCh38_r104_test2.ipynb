{
 "cells": [
  {
   "attachments": {},
   "cell_type": "markdown",
   "metadata": {},
   "source": [
    "## GLORI alignment and pileup pipeline\n",
    "\n",
    "Jianheng Liu (Fox) @ Jaffrey Lab, May 31st, 2023\n",
    "\n",
    "Concat: jil4026@med.cornell.edu"
   ]
  },
  {
   "attachments": {},
   "cell_type": "markdown",
   "metadata": {},
   "source": [
    "**Usage:** Modify `Prepartion` section to fit your computer. Modify `Variable` section before each run.All outputs will be saved in the `workpath`. Logs will be saved in the notebook. Don't close the `Notebook` before it finished (keep the backend at least)!\n",
    "\n",
    "**Note 1:** Compressed `tmp` file and `pileup.txt` file can work with the latest scripts.\n",
    "\n",
    "**Note 2:** This panel notebook should be compatible with `Python 3`. But please use `Python 2` to run the analytic scripts."
   ]
  },
  {
   "cell_type": "code",
   "execution_count": 1,
   "metadata": {},
   "outputs": [
    {
     "name": "stdout",
     "output_type": "stream",
     "text": [
      "Started: 05/31/23 13:52:34\n",
      "/home/fox/Jupyter/GLORI_Yi_lab/Jupyter_notebook\r\n"
     ]
    }
   ],
   "source": [
    "# local time\n",
    "from datetime import datetime\n",
    "now = datetime.now()\n",
    "current_time = now.strftime(\"%D %H:%M:%S\")\n",
    "print(\"Started:\", current_time)\n",
    "\n",
    "# Show notebook directory\n",
    "!pwd -P"
   ]
  },
  {
   "attachments": {},
   "cell_type": "markdown",
   "metadata": {},
   "source": [
    "### 0. Variable here"
   ]
  },
  {
   "cell_type": "code",
   "execution_count": 2,
   "metadata": {},
   "outputs": [],
   "source": [
    "name = \"test2\" # file name prefix\n",
    "folder = \"test2_run/\"\n",
    "path = \"./\" # output path: workpath=path/folder\n",
    "workpath = path + \"/\" + folder + \"/\"\n",
    "read1 = \"test2.fastq.gz\" # fastq or fastq.gz\n",
    "pileup_processors = 10"
   ]
  },
  {
   "attachments": {},
   "cell_type": "markdown",
   "metadata": {},
   "source": [
    "### 1. Preparation"
   ]
  },
  {
   "attachments": {},
   "cell_type": "markdown",
   "metadata": {},
   "source": [
    "**Files** (some of them are prefix)"
   ]
  },
  {
   "cell_type": "code",
   "execution_count": 3,
   "metadata": {},
   "outputs": [],
   "source": [
    "ref_genome_index = \"/home/fox/Database/GLORI_index/GRCh38_r104/hisat2_index/\"\n",
    "ref_genome = \"/home/fox/Database/GLORI_index/GRCh38_r104/hisat2_index/Homo_sapiens.GRCh38.dna_sm.primary_assembly.fa\"\n",
    "db = \"/home/fox/Database/Genome/Ensembl/GRCh38_r104/Homo_sapiens.GRCh38.104.noheader.base.sorted.db\""
   ]
  },
  {
   "attachments": {},
   "cell_type": "markdown",
   "metadata": {},
   "source": [
    "**Software** (For python, use the fixed version)"
   ]
  },
  {
   "cell_type": "code",
   "execution_count": 4,
   "metadata": {},
   "outputs": [],
   "source": [
    "python = '/home/fox/Software/bin/python'\n",
    "bowtie2 = '/home/fox/Software/bin/python2'\n",
    "samtools = '/home/fox/Software/samtools/1.16/bin/samtools'\n",
    "cutadapt = '/home/fox/Software/bin/cutadapt'\n",
    "hisat2_path = '/home/fox/Software/hisat2/2.1.0/'\n",
    "umitools = '/home/fox/Software/bin/umi_tools'"
   ]
  },
  {
   "attachments": {},
   "cell_type": "markdown",
   "metadata": {},
   "source": [
    "**Scripts**"
   ]
  },
  {
   "cell_type": "code",
   "execution_count": 5,
   "metadata": {},
   "outputs": [],
   "source": [
    "hisat2_script = \"../A2G_hisat2.py\"\n",
    "pileup_script = \"../pileup_genome.py\"\n",
    "formater_script = \"../format_pileups.py\" "
   ]
  },
  {
   "attachments": {},
   "cell_type": "markdown",
   "metadata": {},
   "source": [
    "**Create the workpath if not exist, then move to the workpath**"
   ]
  },
  {
   "cell_type": "code",
   "execution_count": 6,
   "metadata": {},
   "outputs": [],
   "source": [
    "import os\n",
    "if os.path.isdir(workpath) == False:\n",
    "    os.mkdir(workpath)\n",
    "os.chdir(workpath)"
   ]
  },
  {
   "attachments": {},
   "cell_type": "markdown",
   "metadata": {},
   "source": [
    "### 2. QC"
   ]
  },
  {
   "cell_type": "code",
   "execution_count": 7,
   "metadata": {},
   "outputs": [],
   "source": [
    "# Extract UMI\n",
    "UMI_out = \"{name}.UMI.fastq\".format(name=name)\n",
    "UMI_log = \"{name}.UMI.log\".format(name=name)\n",
    "\n",
    "!$umitools extract -I ../$read1 -S $UMI_out -p NNNNNNNNNNNN --log=$UMI_log"
   ]
  },
  {
   "cell_type": "code",
   "execution_count": 8,
   "metadata": {},
   "outputs": [
    {
     "name": "stdout",
     "output_type": "stream",
     "text": [
      "This is cutadapt 4.1 with Python 3.9.14\n",
      "Command line parameters: -a AGATCGGAAGAGCGTCGTG --max-n 0 --trimmed-only -e 0.1 -q 30 -m 30 --trim-n -o test2.cutadapt.fastq test2.UMI.fastq\n",
      "Processing single-end reads on 1 core ...\n",
      "Done           00:00:20     1,000,000 reads @  20.4 µs/read;   2.94 M reads/minute\n",
      "Finished in 20.45 s (20 µs/read; 2.93 M reads/minute).\n",
      "\n",
      "=== Summary ===\n",
      "\n",
      "Total reads processed:               1,000,000\n",
      "Reads with adapters:                   945,794 (94.6%)\n",
      "\n",
      "== Read fate breakdown ==\n",
      "Reads that were too short:             187,739 (18.8%)\n",
      "Reads with too many N:                      95 (0.0%)\n",
      "Reads discarded as untrimmed:           15,868 (1.6%)\n",
      "Reads written (passing filters):       796,298 (79.6%)\n",
      "\n",
      "Total basepairs processed:   138,000,000 bp\n",
      "Quality-trimmed:              34,733,029 bp (25.2%)\n",
      "Total written (filtered):     38,591,616 bp (28.0%)\n",
      "\n",
      "=== Adapter 1 ===\n",
      "\n",
      "Sequence: AGATCGGAAGAGCGTCGTG; Type: regular 3'; Length: 19; Trimmed: 945794 times\n",
      "\n",
      "Minimum overlap: 3\n",
      "No. of allowed errors:\n",
      "1-9 bp: 0; 10-19 bp: 1\n",
      "\n",
      "Bases preceding removed adapters:\n",
      "  A: 0.4%\n",
      "  C: 34.5%\n",
      "  G: 41.2%\n",
      "  T: 23.9%\n",
      "  none/other: 0.0%\n",
      "\n",
      "Overview of removed sequences\n",
      "length\tcount\texpect\tmax.err\terror counts\n",
      "3\t442\t15625.0\t0\t442\n",
      "4\t278\t3906.2\t0\t278\n",
      "5\t291\t976.6\t0\t291\n",
      "6\t483\t244.1\t0\t483\n",
      "7\t763\t61.0\t0\t763\n",
      "8\t484\t15.3\t0\t484\n",
      "9\t676\t3.8\t0\t673 3\n",
      "10\t707\t1.0\t1\t682 25\n",
      "11\t287\t0.2\t1\t272 15\n",
      "12\t660\t0.1\t1\t624 36\n",
      "13\t355\t0.0\t1\t329 26\n",
      "14\t2053\t0.0\t1\t1967 86\n",
      "15\t603\t0.0\t1\t535 68\n",
      "16\t319\t0.0\t1\t293 26\n",
      "17\t1533\t0.0\t1\t1444 89\n",
      "18\t192\t0.0\t1\t170 22\n",
      "19\t490\t0.0\t1\t448 42\n",
      "20\t240\t0.0\t1\t215 25\n",
      "21\t94\t0.0\t1\t79 15\n",
      "22\t175\t0.0\t1\t155 20\n",
      "23\t350\t0.0\t1\t291 59\n",
      "24\t1991\t0.0\t1\t1806 185\n",
      "25\t436\t0.0\t1\t391 45\n",
      "26\t510\t0.0\t1\t473 37\n",
      "27\t313\t0.0\t1\t275 38\n",
      "28\t844\t0.0\t1\t763 81\n",
      "29\t291\t0.0\t1\t236 55\n",
      "30\t2026\t0.0\t1\t1860 166\n",
      "31\t259\t0.0\t1\t212 47\n",
      "32\t659\t0.0\t1\t581 78\n",
      "33\t576\t0.0\t1\t508 68\n",
      "34\t703\t0.0\t1\t630 73\n",
      "35\t1355\t0.0\t1\t1216 139\n",
      "36\t1558\t0.0\t1\t1399 159\n",
      "37\t1057\t0.0\t1\t932 125\n",
      "38\t1933\t0.0\t1\t1773 160\n",
      "39\t727\t0.0\t1\t640 87\n",
      "40\t1173\t0.0\t1\t1065 108\n",
      "41\t1989\t0.0\t1\t1767 222\n",
      "42\t4534\t0.0\t1\t4167 367\n",
      "43\t914\t0.0\t1\t808 106\n",
      "44\t2416\t0.0\t1\t2168 248\n",
      "45\t5769\t0.0\t1\t5342 427\n",
      "46\t2024\t0.0\t1\t1858 166\n",
      "47\t1615\t0.0\t1\t1492 123\n",
      "48\t3356\t0.0\t1\t3096 260\n",
      "49\t3350\t0.0\t1\t3091 259\n",
      "50\t3969\t0.0\t1\t3223 746\n",
      "51\t65143\t0.0\t1\t62947 2196\n",
      "52\t4917\t0.0\t1\t4654 263\n",
      "53\t3380\t0.0\t1\t3184 196\n",
      "54\t1033\t0.0\t1\t918 115\n",
      "55\t3747\t0.0\t1\t3592 155\n",
      "56\t3033\t0.0\t1\t2858 175\n",
      "57\t2814\t0.0\t1\t2650 164\n",
      "58\t3508\t0.0\t1\t3316 192\n",
      "59\t5203\t0.0\t1\t4977 226\n",
      "60\t6139\t0.0\t1\t5837 302\n",
      "61\t7884\t0.0\t1\t7453 431\n",
      "62\t12149\t0.0\t1\t11320 829\n",
      "63\t30767\t0.0\t1\t23968 6799\n",
      "64\t640178\t0.0\t1\t631652 8526\n",
      "65\t16581\t0.0\t1\t15902 679\n",
      "66\t2033\t0.0\t1\t1961 72\n",
      "67\t1199\t0.0\t1\t1164 35\n",
      "68\t1043\t0.0\t1\t1018 25\n",
      "69\t906\t0.0\t1\t881 25\n",
      "70\t702\t0.0\t1\t666 36\n",
      "71\t2437\t0.0\t1\t2376 61\n",
      "72\t3749\t0.0\t1\t3612 137\n",
      "73\t8485\t0.0\t1\t8325 160\n",
      "74\t8803\t0.0\t1\t8641 162\n",
      "75\t8942\t0.0\t1\t8816 126\n",
      "76\t5570\t0.0\t1\t5480 90\n",
      "77\t3753\t0.0\t1\t3694 59\n",
      "78\t2133\t0.0\t1\t2075 58\n",
      "79\t1770\t0.0\t1\t1725 45\n",
      "80\t1016\t0.0\t1\t976 40\n",
      "81\t855\t0.0\t1\t817 38\n",
      "82\t674\t0.0\t1\t647 27\n",
      "83\t626\t0.0\t1\t595 31\n",
      "84\t669\t0.0\t1\t635 34\n",
      "85\t589\t0.0\t1\t550 39\n",
      "86\t613\t0.0\t1\t569 44\n",
      "87\t712\t0.0\t1\t663 49\n",
      "88\t798\t0.0\t1\t746 52\n",
      "89\t839\t0.0\t1\t797 42\n",
      "90\t663\t0.0\t1\t609 54\n",
      "91\t590\t0.0\t1\t545 45\n",
      "92\t580\t0.0\t1\t540 40\n",
      "93\t627\t0.0\t1\t587 40\n",
      "94\t646\t0.0\t1\t607 39\n",
      "95\t702\t0.0\t1\t657 45\n",
      "96\t728\t0.0\t1\t671 57\n",
      "97\t744\t0.0\t1\t694 50\n",
      "98\t765\t0.0\t1\t714 51\n",
      "99\t823\t0.0\t1\t760 63\n",
      "100\t923\t0.0\t1\t860 63\n",
      "101\t966\t0.0\t1\t874 92\n",
      "102\t1000\t0.0\t1\t941 59\n",
      "103\t909\t0.0\t1\t848 61\n",
      "104\t935\t0.0\t1\t873 62\n",
      "105\t1020\t0.0\t1\t956 64\n",
      "106\t928\t0.0\t1\t863 65\n",
      "107\t1083\t0.0\t1\t1011 72\n",
      "108\t944\t0.0\t1\t888 56\n",
      "109\t941\t0.0\t1\t886 55\n",
      "110\t1043\t0.0\t1\t998 45\n",
      "111\t1130\t0.0\t1\t1055 75\n",
      "112\t1239\t0.0\t1\t1184 55\n",
      "113\t984\t0.0\t1\t929 55\n",
      "114\t748\t0.0\t1\t715 33\n",
      "115\t407\t0.0\t1\t390 17\n",
      "116\t196\t0.0\t1\t186 10\n",
      "117\t87\t0.0\t1\t81 6\n",
      "118\t55\t0.0\t1\t50 5\n",
      "119\t41\t0.0\t1\t39 2\n",
      "120\t30\t0.0\t1\t27 3\n",
      "121\t26\t0.0\t1\t23 3\n",
      "122\t33\t0.0\t1\t30 3\n",
      "123\t12\t0.0\t1\t11 1\n",
      "124\t9\t0.0\t1\t9\n",
      "125\t11\t0.0\t1\t10 1\n",
      "126\t3\t0.0\t1\t2 1\n",
      "127\t1\t0.0\t1\t0 1\n",
      "128\t6\t0.0\t1\t5 1\n",
      "130\t1\t0.0\t1\t1\n",
      "131\t1\t0.0\t1\t1\n"
     ]
    }
   ],
   "source": [
    "adapter = \"AGATCGGAAGAGCGTCGTG\"\n",
    "cutadapt_out = \"{name}.cutadapt.fastq\".format(name=name)\n",
    "\n",
    "!$cutadapt -a $adapter --max-n 0 --trimmed-only -e 0.1 -q 30 -m 30 --trim-n -o $cutadapt_out $UMI_out"
   ]
  },
  {
   "attachments": {},
   "cell_type": "markdown",
   "metadata": {},
   "source": [
    "### 2. Mapping"
   ]
  },
  {
   "cell_type": "code",
   "execution_count": 9,
   "metadata": {},
   "outputs": [
    {
     "name": "stdout",
     "output_type": "stream",
     "text": [
      "[2023-05-31 13:53:17]Converting test2.cutadapt.fastq, A2G...\n",
      "[2023-05-31 13:53:19]Mapping with hisat2, TEMP prefix: hisat2_1656473\n",
      "[2023-05-31 13:53:45]T2C report:\n",
      "[2023-05-31 13:53:45]A2G report:\n",
      "[2023-05-31 13:53:45]Handling SAM outputs...\n",
      "[2023-05-31 13:54:18]Completed successfully:\n",
      " Total reads: 796298\n",
      " Unique mapping: 372471 (46.775%)\n",
      "   A2G: 185192 (23.26%)\n",
      "   T2C: 187279 (23.52%)\n",
      " Multiple mapping: 109516 (13.753%)\n",
      " Unmapped: 314311 (39.472%)\n"
     ]
    }
   ],
   "source": [
    "!$python $hisat2_script -F $cutadapt_out -o hisat2_genome -I $ref_genome_index --index-prefix HISAT2 --hisat2-path $hisat2_path --del-convert --del-sam"
   ]
  },
  {
   "cell_type": "code",
   "execution_count": 10,
   "metadata": {},
   "outputs": [
    {
     "name": "stdout",
     "output_type": "stream",
     "text": [
      "[bam_sort_core] merging from 0 files and 4 in-memory blocks...\r\n"
     ]
    }
   ],
   "source": [
    "!$samtools sort -@ 4 -m 4G -o hisat2_genome.sorted.bam hisat2_genome.bam"
   ]
  },
  {
   "cell_type": "code",
   "execution_count": 11,
   "metadata": {},
   "outputs": [],
   "source": [
    "!$samtools index hisat2_genome.sorted.bam"
   ]
  },
  {
   "cell_type": "code",
   "execution_count": 12,
   "metadata": {},
   "outputs": [],
   "source": [
    "!$umitools dedup --stdin=hisat2_genome.sorted.bam --log=umi.logs --method=unique > hisat2_genome.sorted.umi.bam"
   ]
  },
  {
   "cell_type": "code",
   "execution_count": 13,
   "metadata": {},
   "outputs": [
    {
     "name": "stdout",
     "output_type": "stream",
     "text": [
      "[bam_sort_core] merging from 0 files and 4 in-memory blocks...\r\n"
     ]
    }
   ],
   "source": [
    "!samtools sort -@ 4 -m 4G -o hisat2_genome.sorted.umi.sorted.bam  hisat2_genome.sorted.umi.bam"
   ]
  },
  {
   "cell_type": "code",
   "execution_count": 14,
   "metadata": {},
   "outputs": [],
   "source": [
    "!samtools index hisat2_genome.sorted.umi.sorted.bam"
   ]
  },
  {
   "attachments": {},
   "cell_type": "markdown",
   "metadata": {},
   "source": [
    "### 3. Pileup"
   ]
  },
  {
   "cell_type": "code",
   "execution_count": 15,
   "metadata": {},
   "outputs": [
    {
     "name": "stdout",
     "output_type": "stream",
     "text": [
      "[2023-05-31 13:54:42] Pileup genome, processers: 10, pid: 1656781\n",
      "[2023-05-31 13:57:40] Merging TEMPs\n",
      "[2023-05-31 13:57:45] Genome pileup finished.\n"
     ]
    }
   ],
   "source": [
    "pileup_output = \"{}.pileups.tmp\".format(name)\n",
    "!$python $pileup_script -P $pileup_processors -i hisat2_genome.sorted.umi.sorted.bam -o $pileup_output -f $ref_genome"
   ]
  },
  {
   "attachments": {},
   "cell_type": "markdown",
   "metadata": {},
   "source": [
    "### 4. Format output"
   ]
  },
  {
   "cell_type": "code",
   "execution_count": 16,
   "metadata": {},
   "outputs": [
    {
     "name": "stdout",
     "output_type": "stream",
     "text": [
      "[2023-05-31 13:57:45] Reading input...\n",
      "[2023-05-31 13:57:54] 1000000 items processed...\n",
      "[2023-05-31 13:58:01] 2000000 items processed...\n",
      "[2023-05-31 13:58:08] 3000000 items processed...\n",
      "[2023-05-31 13:58:14] 4000000 items processed...\n",
      "[2023-05-31 13:58:21] 5000000 items processed...\n",
      "[2023-05-31 13:58:28] 6000000 items processed...\n",
      "[2023-05-31 13:58:35] 7000000 items processed...\n",
      "[2023-05-31 13:58:41] 8000000 items processed...\n",
      "[2023-05-31 13:58:49] 9000000 items processed...\n",
      "[2023-05-31 13:58:55] 10000000 items processed...\n",
      "[2023-05-31 13:59:02] 11000000 items processed...\n",
      "[2023-05-31 13:59:10] 12000000 items processed...\n",
      "[2023-05-31 13:59:17] 13000000 items processed...\n",
      "[2023-05-31 13:59:25] 14000000 items processed...\n",
      "[2023-05-31 13:59:31] 15000000 items processed...\n",
      "[2023-05-31 13:59:37] 16000000 items processed...\n",
      "[2023-05-31 13:59:43] 17000000 items processed...\n",
      "[2023-05-31 13:59:50] 18000000 items processed...\n",
      "[2023-05-31 13:59:58] 19000000 items processed...\n",
      "[2023-05-31 14:00:04] 20000000 items processed...\n",
      "[2023-05-31 14:00:11] 21000000 items processed...\n",
      "[2023-05-31 14:00:18] 22000000 items processed...\n",
      "[2023-05-31 14:00:24] 23000000 items processed...\n",
      "[2023-05-31 14:00:31] 24000000 items processed...\n",
      "[2023-05-31 14:00:38] 25000000 items processed...\n",
      "[2023-05-31 14:00:45] 26000000 items processed...\n",
      "[2023-05-31 14:00:53] 27000000 items processed...\n",
      "[2023-05-31 14:01:01] 28000000 items processed...\n",
      "[2023-05-31 14:01:08] 29000000 items processed...\n",
      "[2023-05-31 14:01:14] 30000000 items processed...\n",
      "[2023-05-31 14:01:21] 31000000 items processed...\n",
      "[2023-05-31 14:01:28] 32000000 items processed...\n",
      "[2023-05-31 14:01:35] 33000000 items processed...\n",
      "[2023-05-31 14:01:42] 34000000 items processed...\n",
      "[2023-05-31 14:01:49] 35000000 items processed...\n",
      "[2023-05-31 14:01:55] 36000000 items processed...\n",
      "[2023-05-31 14:02:01] 37000000 items processed...\n",
      "[2023-05-31 14:02:07] 38000000 items processed...\n",
      "[2023-05-31 14:02:14] 39000000 items processed...\n",
      "[2023-05-31 14:02:20] 40000000 items processed...\n",
      "[2023-05-31 14:02:27] 41000000 items processed...\n",
      "[2023-05-31 14:02:34] 42000000 items processed...\n",
      "[2023-05-31 14:02:41] 43000000 items processed...\n",
      "[2023-05-31 14:02:48] 44000000 items processed...\n",
      "[2023-05-31 14:02:54] 45000000 items processed...\n",
      "[2023-05-31 14:03:01] 46000000 items processed...\n",
      "[2023-05-31 14:03:07] 47000000 items processed...\n",
      "[2023-05-31 14:03:14] 48000000 items processed...\n",
      "[2023-05-31 14:03:20] 49000000 items processed...\n",
      "[2023-05-31 14:03:26] 50000000 items processed...\n",
      "[2023-05-31 14:03:35] 51000000 items processed...\n",
      "[2023-05-31 14:03:41] 52000000 items processed...\n",
      "[2023-05-31 14:03:48] 53000000 items processed...\n",
      "[2023-05-31 14:03:55] 54000000 items processed...\n",
      "[2023-05-31 14:04:01] 55000000 items processed...\n",
      "[2023-05-31 14:04:08] 56000000 items processed...\n",
      "[2023-05-31 14:04:14] 57000000 items processed...\n",
      "[2023-05-31 14:04:20] 58000000 items processed...\n",
      "[2023-05-31 14:04:26] 59000000 items processed...\n",
      "[2023-05-31 14:04:33] 60000000 items processed...\n",
      "[2023-05-31 14:04:39] 61000000 items processed...\n",
      "[2023-05-31 14:04:46] 62000000 items processed...\n",
      "[2023-05-31 14:04:52] 63000000 items processed...\n",
      "[2023-05-31 14:05:00] 64000000 items processed...\n",
      "[2023-05-31 14:05:06] 65000000 items processed...\n",
      "[2023-05-31 14:05:13] 66000000 items processed...\n",
      "[2023-05-31 14:05:19] 67000000 items processed...\n",
      "[2023-05-31 14:05:27] 68000000 items processed...\n",
      "[2023-05-31 14:05:33] 69000000 items processed...\n",
      "[2023-05-31 14:05:40] 70000000 items processed...\n",
      "[2023-05-31 14:05:47] 71000000 items processed...\n",
      "[2023-05-31 14:05:54] 72000000 items processed...\n",
      "[2023-05-31 14:06:01] 73000000 items processed...\n",
      "[2023-05-31 14:06:08] 74000000 items processed...\n",
      "[2023-05-31 14:06:14] 75000000 items processed...\n",
      "[2023-05-31 14:06:21] 76000000 items processed...\n",
      "[2023-05-31 14:06:27] 77000000 items processed...\n",
      "[2023-05-31 14:06:34] 78000000 items processed...\n",
      "[2023-05-31 14:06:40] 79000000 items processed...\n",
      "[2023-05-31 14:06:47] 80000000 items processed...\n",
      "[2023-05-31 14:06:54] 81000000 items processed...\n",
      "[2023-05-31 14:07:00] 82000000 items processed...\n",
      "[2023-05-31 14:07:07] 83000000 items processed...\n",
      "[2023-05-31 14:07:14] 84000000 items processed...\n",
      "[2023-05-31 14:07:21] 85000000 items processed...\n",
      "[2023-05-31 14:07:28] 86000000 items processed...\n",
      "[2023-05-31 14:07:36] 87000000 items processed...\n",
      "[2023-05-31 14:07:42] 88000000 items processed...\n",
      "[2023-05-31 14:07:49] 89000000 items processed...\n",
      "[2023-05-31 14:07:57] 90000000 items processed...\n",
      "[2023-05-31 14:08:03] 91000000 items processed...\n",
      "[2023-05-31 14:08:11] 92000000 items processed...\n",
      "[2023-05-31 14:08:18] 93000000 items processed...\n",
      "[2023-05-31 14:08:25] 94000000 items processed...\n",
      "[2023-05-31 14:08:32] 95000000 items processed...\n",
      "[2023-05-31 14:08:39] 96000000 items processed...\n",
      "[2023-05-31 14:08:46] 97000000 items processed...\n",
      "[2023-05-31 14:08:53] 98000000 items processed...\n",
      "[2023-05-31 14:09:00] 99000000 items processed...\n",
      "[2023-05-31 14:09:07] 100000000 items processed...\n",
      "[2023-05-31 14:09:15] 101000000 items processed...\n",
      "[2023-05-31 14:09:23] 102000000 items processed...\n",
      "[2023-05-31 14:09:29] 103000000 items processed...\n",
      "[2023-05-31 14:09:36] 104000000 items processed...\n",
      "[2023-05-31 14:09:43] 105000000 items processed...\n",
      "[2023-05-31 14:09:50] 106000000 items processed...\n",
      "[2023-05-31 14:09:56] 107000000 items processed...\n",
      "[2023-05-31 14:10:02] 108000000 items processed...\n",
      "[2023-05-31 14:10:09] 109000000 items processed...\n",
      "[2023-05-31 14:10:15] 110000000 items processed...\n",
      "[2023-05-31 14:10:22] 111000000 items processed...\n",
      "[2023-05-31 14:10:28] 112000000 items processed...\n",
      "[2023-05-31 14:10:35] 113000000 items processed...\n",
      "[2023-05-31 14:10:41] 114000000 items processed...\n",
      "[2023-05-31 14:10:48] 115000000 items processed...\n",
      "[2023-05-31 14:10:54] 116000000 items processed...\n",
      "[2023-05-31 14:11:01] 117000000 items processed...\n",
      "[2023-05-31 14:11:08] 118000000 items processed...\n",
      "[2023-05-31 14:11:14] 119000000 items processed...\n",
      "[2023-05-31 14:11:20] 120000000 items processed...\n",
      "[2023-05-31 14:11:26] 121000000 items processed...\n",
      "[2023-05-31 14:11:33] 122000000 items processed...\n",
      "[2023-05-31 14:11:39] 123000000 items processed...\n",
      "[2023-05-31 14:11:46] 124000000 items processed...\n",
      "[2023-05-31 14:11:52] 125000000 items processed...\n",
      "[2023-05-31 14:11:58] 126000000 items processed...\n",
      "[2023-05-31 14:12:05] 127000000 items processed...\n",
      "[2023-05-31 14:12:11] 128000000 items processed...\n",
      "[2023-05-31 14:12:17] 129000000 items processed...\n",
      "[2023-05-31 14:12:23] 130000000 items processed...\n",
      "[2023-05-31 14:12:30] 131000000 items processed...\n",
      "[2023-05-31 14:12:36] 132000000 items processed...\n",
      "[2023-05-31 14:12:42] 133000000 items processed...\n",
      "[2023-05-31 14:12:48] 134000000 items processed...\n",
      "[2023-05-31 14:12:54] 135000000 items processed...\n",
      "[2023-05-31 14:13:00] 136000000 items processed...\n",
      "[2023-05-31 14:13:06] 137000000 items processed...\n",
      "[2023-05-31 14:13:12] 138000000 items processed...\n",
      "[2023-05-31 14:13:18] 139000000 items processed...\n",
      "[2023-05-31 14:13:24] 140000000 items processed...\n",
      "[2023-05-31 14:13:30] 141000000 items processed...\n",
      "[2023-05-31 14:13:36] 142000000 items processed...\n",
      "[2023-05-31 14:13:42] 143000000 items processed...\n",
      "[2023-05-31 14:13:48] 144000000 items processed...\n",
      "[2023-05-31 14:13:55] 145000000 items processed...\n",
      "[2023-05-31 14:14:01] 146000000 items processed...\n",
      "[2023-05-31 14:14:07] 147000000 items processed...\n",
      "[2023-05-31 14:14:13] 148000000 items processed...\n",
      "[2023-05-31 14:14:19] 149000000 items processed...\n",
      "[2023-05-31 14:14:25] 150000000 items processed...\n",
      "[2023-05-31 14:14:31] 151000000 items processed...\n",
      "[2023-05-31 14:14:37] 152000000 items processed...\n",
      "[2023-05-31 14:14:44] 153000000 items processed...\n",
      "[2023-05-31 14:14:49] All loaded. Creating index...\n",
      "[2023-05-31 14:16:59] All finished!\n",
      "[2023-05-31 14:16:59] In-memory database connection setup\n",
      "[2023-05-31 14:19:29] Finished reading input.\n",
      "[2023-05-31 14:19:29] Calculating conversion rates...\n",
      "[2023-05-31 14:19:31] All finished!\n"
     ]
    }
   ],
   "source": [
    "format_output = \"{}.pileups.txt\".format(name)\n",
    "format_output_CR = \"{}.pileups.CR\".format(name)\n",
    "\n",
    "!$python $formater_script -i $pileup_output -o $format_output  --CR $format_output_CR --db $db"
   ]
  },
  {
   "attachments": {},
   "cell_type": "markdown",
   "metadata": {},
   "source": [
    "Output file: test2.pileups.txt"
   ]
  },
  {
   "attachments": {},
   "cell_type": "markdown",
   "metadata": {},
   "source": [
    "### 5. Clean up to save disk (optional)"
   ]
  },
  {
   "attachments": {},
   "cell_type": "markdown",
   "metadata": {},
   "source": [
    "### 6. When and where am I"
   ]
  },
  {
   "cell_type": "code",
   "execution_count": 17,
   "metadata": {},
   "outputs": [
    {
     "name": "stdout",
     "output_type": "stream",
     "text": [
      "/home/fox/Jupyter/GLORI_Yi_lab/Jupyter_notebook/test2_run\n",
      "total 1309548\n",
      "-rw-rw-r-- 1 fox fox  22847327 May 31 13:54 hisat2_genome.bam\n",
      "-rw-rw-r-- 1 fox fox  15010055 May 31 13:54 hisat2_genome.multimappers.bam\n",
      "-rw-rw-r-- 1 fox fox  20006009 May 31 13:54 hisat2_genome.sorted.bam\n",
      "-rw-rw-r-- 1 fox fox   2045912 May 31 13:54 hisat2_genome.sorted.bam.bai\n",
      "-rw-rw-r-- 1 fox fox  19309616 May 31 13:54 hisat2_genome.sorted.umi.bam\n",
      "-rw-rw-r-- 1 fox fox  19309641 May 31 13:54 hisat2_genome.sorted.umi.sorted.bam\n",
      "-rw-rw-r-- 1 fox fox   2046416 May 31 13:54 hisat2_genome.sorted.umi.sorted.bam.bai\n",
      "-rw-rw-r-- 1 fox fox 123062987 May 31 13:53 test2.cutadapt.fastq\n",
      "-rw-rw-r-- 1 fox fox  66267666 May 31 13:54 test2.cutadapt.unmapped.fastq\n",
      "-rw-rw-r-- 1 fox fox    580151 May 31 14:19 test2.pileups.CR\n",
      "-rw-rw-r-- 1 fox fox 361417014 May 31 13:57 test2.pileups.tmp\n",
      "-rw-rw-r-- 1 fox fox 355383290 May 31 14:19 test2.pileups.txt\n",
      "-rw-rw-r-- 1 fox fox 333612354 May 31 13:52 test2.UMI.fastq\n",
      "-rw-rw-r-- 1 fox fox     19700 May 31 13:52 test2.UMI.log\n",
      "-rw-rw-r-- 1 fox fox     18622 May 31 13:54 umi.logs\n"
     ]
    }
   ],
   "source": [
    "!pwd -P\n",
    "!ls -l"
   ]
  },
  {
   "cell_type": "code",
   "execution_count": 18,
   "metadata": {},
   "outputs": [
    {
     "name": "stdout",
     "output_type": "stream",
     "text": [
      "Finished: 05/31/23 14:19:38\n"
     ]
    }
   ],
   "source": [
    "now = datetime.now()\n",
    "current_time = now.strftime(\"%D %H:%M:%S\")\n",
    "print(\"Finished:\", current_time)"
   ]
  },
  {
   "attachments": {},
   "cell_type": "markdown",
   "metadata": {},
   "source": [
    "## Don't forget to save the Notebook."
   ]
  }
 ],
 "metadata": {
  "kernelspec": {
   "display_name": "Python 3 (ipykernel)",
   "language": "python",
   "name": "python3"
  },
  "language_info": {
   "codemirror_mode": {
    "name": "ipython",
    "version": 3
   },
   "file_extension": ".py",
   "mimetype": "text/x-python",
   "name": "python",
   "nbconvert_exporter": "python",
   "pygments_lexer": "ipython3",
   "version": "3.9.14"
  }
 },
 "nbformat": 4,
 "nbformat_minor": 2
}
