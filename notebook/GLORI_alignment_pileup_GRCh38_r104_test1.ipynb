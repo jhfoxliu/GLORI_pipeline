{
 "cells": [
  {
   "attachments": {},
   "cell_type": "markdown",
   "metadata": {},
   "source": [
    "## GLORI alignment and pileup pipeline\n",
    "\n",
    "Jianheng Liu (Fox) @ Jaffrey Lab, May 31st, 2023\n",
    "\n",
    "Concat: jil4026@med.cornell.edu"
   ]
  },
  {
   "attachments": {},
   "cell_type": "markdown",
   "metadata": {},
   "source": [
    "**Usage:** Modify `Prepartion` section to fit your computer. Modify `Variable` section before each run.All outputs will be saved in the `workpath`. Logs will be saved in the notebook. Don't close the `Notebook` before it finished (keep the backend at least)!\n",
    "\n",
    "**Note 1:** Compressed `tmp` file and `pileup.txt` file can work with the latest scripts.\n",
    "\n",
    "**Note 2:** This panel notebook should be compatible with `Python 3`. But please use `Python 2` to run the analytic scripts."
   ]
  },
  {
   "cell_type": "code",
   "execution_count": 1,
   "metadata": {},
   "outputs": [
    {
     "name": "stdout",
     "output_type": "stream",
     "text": [
      "Started: 05/31/23 13:52:32\n",
      "/home/fox/Jupyter/GLORI_Yi_lab/Jupyter_notebook\r\n"
     ]
    }
   ],
   "source": [
    "# local time\n",
    "from datetime import datetime\n",
    "now = datetime.now()\n",
    "current_time = now.strftime(\"%D %H:%M:%S\")\n",
    "print(\"Started:\", current_time)\n",
    "\n",
    "# Show notebook directory\n",
    "!pwd -P"
   ]
  },
  {
   "attachments": {},
   "cell_type": "markdown",
   "metadata": {},
   "source": [
    "### 0. Variable here"
   ]
  },
  {
   "cell_type": "code",
   "execution_count": 2,
   "metadata": {},
   "outputs": [],
   "source": [
    "name = \"test1\" # file name prefix\n",
    "folder = \"test1_run/\"\n",
    "path = \"./\" # output path: workpath=path/folder\n",
    "workpath = path + \"/\" + folder + \"/\"\n",
    "read1 = \"test1.fastq.gz\" # fastq or fastq.gz\n",
    "pileup_processors = 10"
   ]
  },
  {
   "attachments": {},
   "cell_type": "markdown",
   "metadata": {},
   "source": [
    "### 1. Preparation"
   ]
  },
  {
   "attachments": {},
   "cell_type": "markdown",
   "metadata": {},
   "source": [
    "**Files** (some of them are prefix)"
   ]
  },
  {
   "cell_type": "code",
   "execution_count": 3,
   "metadata": {},
   "outputs": [],
   "source": [
    "ref_genome_index = \"/home/fox/Database/GLORI_index/GRCh38_r104/hisat2_index/\"\n",
    "ref_genome = \"/home/fox/Database/GLORI_index/GRCh38_r104/hisat2_index/Homo_sapiens.GRCh38.dna_sm.primary_assembly.fa\"\n",
    "db = \"/home/fox/Database/Genome/Ensembl/GRCh38_r104/Homo_sapiens.GRCh38.104.noheader.base.sorted.db\""
   ]
  },
  {
   "attachments": {},
   "cell_type": "markdown",
   "metadata": {},
   "source": [
    "**Software** (For python, use the fixed version)"
   ]
  },
  {
   "cell_type": "code",
   "execution_count": 4,
   "metadata": {},
   "outputs": [],
   "source": [
    "python = '/home/fox/Software/bin/python'\n",
    "bowtie2 = '/home/fox/Software/bin/python2'\n",
    "samtools = '/home/fox/Software/samtools/1.16/bin/samtools'\n",
    "cutadapt = '/home/fox/Software/bin/cutadapt'\n",
    "hisat2_path = '/home/fox/Software/hisat2/2.1.0/'\n",
    "umitools = '/home/fox/Software/bin/umi_tools'"
   ]
  },
  {
   "attachments": {},
   "cell_type": "markdown",
   "metadata": {},
   "source": [
    "**Scripts**"
   ]
  },
  {
   "cell_type": "code",
   "execution_count": 5,
   "metadata": {},
   "outputs": [],
   "source": [
    "hisat2_script = \"../A2G_hisat2.py\"\n",
    "pileup_script = \"../pileup_genome.py\"\n",
    "formater_script = \"../format_pileups.py\" "
   ]
  },
  {
   "attachments": {},
   "cell_type": "markdown",
   "metadata": {},
   "source": [
    "**Create the workpath if not exist, then move to the workpath**"
   ]
  },
  {
   "cell_type": "code",
   "execution_count": 6,
   "metadata": {},
   "outputs": [],
   "source": [
    "import os\n",
    "if os.path.isdir(workpath) == False:\n",
    "    os.mkdir(workpath)\n",
    "os.chdir(workpath)"
   ]
  },
  {
   "attachments": {},
   "cell_type": "markdown",
   "metadata": {},
   "source": [
    "### 2. QC"
   ]
  },
  {
   "cell_type": "code",
   "execution_count": 7,
   "metadata": {},
   "outputs": [],
   "source": [
    "# Extract UMI\n",
    "UMI_out = \"{name}.UMI.fastq\".format(name=name)\n",
    "UMI_log = \"{name}.UMI.log\".format(name=name)\n",
    "\n",
    "!$umitools extract -I ../$read1 -S $UMI_out -p NNNNNNNNNNNN --log=$UMI_log"
   ]
  },
  {
   "cell_type": "code",
   "execution_count": 8,
   "metadata": {},
   "outputs": [
    {
     "name": "stdout",
     "output_type": "stream",
     "text": [
      "This is cutadapt 4.1 with Python 3.9.14\n",
      "Command line parameters: -a AGATCGGAAGAGCGTCGTG --max-n 0 --trimmed-only -e 0.1 -q 30 -m 30 --trim-n -o test1.cutadapt.fastq test1.UMI.fastq\n",
      "Processing single-end reads on 1 core ...\n",
      "Done           00:00:20     1,000,000 reads @  20.8 µs/read;   2.88 M reads/minute\n",
      "Finished in 20.86 s (21 µs/read; 2.88 M reads/minute).\n",
      "\n",
      "=== Summary ===\n",
      "\n",
      "Total reads processed:               1,000,000\n",
      "Reads with adapters:                   932,919 (93.3%)\n",
      "\n",
      "== Read fate breakdown ==\n",
      "Reads that were too short:             187,640 (18.8%)\n",
      "Reads with too many N:                       0 (0.0%)\n",
      "Reads discarded as untrimmed:           19,396 (1.9%)\n",
      "Reads written (passing filters):       792,964 (79.3%)\n",
      "\n",
      "Total basepairs processed:   138,000,000 bp\n",
      "Quality-trimmed:              37,149,448 bp (26.9%)\n",
      "Total written (filtered):     37,936,114 bp (27.5%)\n",
      "\n",
      "=== Adapter 1 ===\n",
      "\n",
      "Sequence: AGATCGGAAGAGCGTCGTG; Type: regular 3'; Length: 19; Trimmed: 932919 times\n",
      "\n",
      "Minimum overlap: 3\n",
      "No. of allowed errors:\n",
      "1-9 bp: 0; 10-19 bp: 1\n",
      "\n",
      "Bases preceding removed adapters:\n",
      "  A: 0.4%\n",
      "  C: 34.7%\n",
      "  G: 41.0%\n",
      "  T: 23.9%\n",
      "  none/other: 0.0%\n",
      "\n",
      "Overview of removed sequences\n",
      "length\tcount\texpect\tmax.err\terror counts\n",
      "3\t681\t15625.0\t0\t681\n",
      "4\t430\t3906.2\t0\t430\n",
      "5\t451\t976.6\t0\t451\n",
      "6\t803\t244.1\t0\t803\n",
      "7\t1014\t61.0\t0\t1014\n",
      "8\t781\t15.3\t0\t781\n",
      "9\t962\t3.8\t0\t961 1\n",
      "10\t985\t1.0\t1\t944 41\n",
      "11\t509\t0.2\t1\t477 32\n",
      "12\t925\t0.1\t1\t867 58\n",
      "13\t590\t0.0\t1\t550 40\n",
      "14\t2509\t0.0\t1\t2388 121\n",
      "15\t947\t0.0\t1\t872 75\n",
      "16\t507\t0.0\t1\t472 35\n",
      "17\t1857\t0.0\t1\t1743 114\n",
      "18\t374\t0.0\t1\t334 40\n",
      "19\t739\t0.0\t1\t666 73\n",
      "20\t503\t0.0\t1\t449 54\n",
      "21\t204\t0.0\t1\t179 25\n",
      "22\t406\t0.0\t1\t349 57\n",
      "23\t547\t0.0\t1\t450 97\n",
      "24\t2510\t0.0\t1\t2301 209\n",
      "25\t642\t0.0\t1\t570 72\n",
      "26\t702\t0.0\t1\t636 66\n",
      "27\t620\t0.0\t1\t533 87\n",
      "28\t1060\t0.0\t1\t938 122\n",
      "29\t482\t0.0\t1\t412 70\n",
      "30\t2153\t0.0\t1\t1930 223\n",
      "31\t451\t0.0\t1\t382 69\n",
      "32\t721\t0.0\t1\t601 120\n",
      "33\t900\t0.0\t1\t786 114\n",
      "34\t997\t0.0\t1\t870 127\n",
      "35\t1581\t0.0\t1\t1407 174\n",
      "36\t1734\t0.0\t1\t1533 201\n",
      "37\t1222\t0.0\t1\t1081 141\n",
      "38\t1817\t0.0\t1\t1636 181\n",
      "39\t945\t0.0\t1\t819 126\n",
      "40\t1287\t0.0\t1\t1155 132\n",
      "41\t2461\t0.0\t1\t2208 253\n",
      "42\t5186\t0.0\t1\t4779 407\n",
      "43\t1185\t0.0\t1\t1046 139\n",
      "44\t3175\t0.0\t1\t2891 284\n",
      "45\t7125\t0.0\t1\t6627 498\n",
      "46\t2687\t0.0\t1\t2483 204\n",
      "47\t1476\t0.0\t1\t1361 115\n",
      "48\t3686\t0.0\t1\t3453 233\n",
      "49\t3611\t0.0\t1\t3353 258\n",
      "50\t3985\t0.0\t1\t3162 823\n",
      "51\t64812\t0.0\t1\t62613 2199\n",
      "52\t4976\t0.0\t1\t4709 267\n",
      "53\t3266\t0.0\t1\t3069 197\n",
      "54\t1010\t0.0\t1\t928 82\n",
      "55\t3102\t0.0\t1\t2968 134\n",
      "56\t2817\t0.0\t1\t2656 161\n",
      "57\t3161\t0.0\t1\t3028 133\n",
      "58\t4254\t0.0\t1\t4082 172\n",
      "59\t6089\t0.0\t1\t5873 216\n",
      "60\t7613\t0.0\t1\t7287 326\n",
      "61\t9929\t0.0\t1\t9435 494\n",
      "62\t16392\t0.0\t1\t15432 960\n",
      "63\t38347\t0.0\t1\t31702 6645\n",
      "64\t595388\t0.0\t1\t588324 7064\n",
      "65\t15752\t0.0\t1\t15156 596\n",
      "66\t2170\t0.0\t1\t2098 72\n",
      "67\t1436\t0.0\t1\t1401 35\n",
      "68\t1043\t0.0\t1\t1016 27\n",
      "69\t926\t0.0\t1\t905 21\n",
      "70\t803\t0.0\t1\t761 42\n",
      "71\t2323\t0.0\t1\t2237 86\n",
      "72\t5610\t0.0\t1\t5451 159\n",
      "73\t11895\t0.0\t1\t11686 209\n",
      "74\t13367\t0.0\t1\t13183 184\n",
      "75\t12061\t0.0\t1\t11898 163\n",
      "76\t7720\t0.0\t1\t7624 96\n",
      "77\t4667\t0.0\t1\t4590 77\n",
      "78\t2463\t0.0\t1\t2415 48\n",
      "79\t2222\t0.0\t1\t2184 38\n",
      "80\t1199\t0.0\t1\t1170 29\n",
      "81\t914\t0.0\t1\t889 25\n",
      "82\t662\t0.0\t1\t642 20\n",
      "83\t574\t0.0\t1\t548 26\n",
      "84\t589\t0.0\t1\t574 15\n",
      "85\t417\t0.0\t1\t396 21\n",
      "86\t365\t0.0\t1\t351 14\n",
      "87\t476\t0.0\t1\t455 21\n",
      "88\t556\t0.0\t1\t530 26\n",
      "89\t745\t0.0\t1\t718 27\n",
      "90\t393\t0.0\t1\t377 16\n",
      "91\t270\t0.0\t1\t257 13\n",
      "92\t256\t0.0\t1\t240 16\n",
      "93\t233\t0.0\t1\t219 14\n",
      "94\t259\t0.0\t1\t246 13\n",
      "95\t261\t0.0\t1\t242 19\n",
      "96\t268\t0.0\t1\t252 16\n",
      "97\t303\t0.0\t1\t273 30\n",
      "98\t322\t0.0\t1\t302 20\n",
      "99\t392\t0.0\t1\t371 21\n",
      "100\t507\t0.0\t1\t489 18\n",
      "101\t509\t0.0\t1\t492 17\n",
      "102\t563\t0.0\t1\t537 26\n",
      "103\t447\t0.0\t1\t436 11\n",
      "104\t434\t0.0\t1\t418 16\n",
      "105\t477\t0.0\t1\t454 23\n",
      "106\t397\t0.0\t1\t361 36\n",
      "107\t424\t0.0\t1\t401 23\n",
      "108\t331\t0.0\t1\t322 9\n",
      "109\t385\t0.0\t1\t362 23\n",
      "110\t411\t0.0\t1\t392 19\n",
      "111\t453\t0.0\t1\t432 21\n",
      "112\t546\t0.0\t1\t526 20\n",
      "113\t378\t0.0\t1\t365 13\n",
      "114\t235\t0.0\t1\t225 10\n",
      "115\t96\t0.0\t1\t87 9\n",
      "116\t53\t0.0\t1\t47 6\n",
      "117\t20\t0.0\t1\t15 5\n",
      "118\t16\t0.0\t1\t14 2\n",
      "119\t9\t0.0\t1\t9\n",
      "120\t11\t0.0\t1\t11\n",
      "121\t8\t0.0\t1\t8\n",
      "122\t2\t0.0\t1\t2\n",
      "123\t6\t0.0\t1\t6\n",
      "124\t3\t0.0\t1\t3\n",
      "125\t1\t0.0\t1\t1\n",
      "126\t2\t0.0\t1\t2\n",
      "127\t1\t0.0\t1\t1\n",
      "136\t1\t0.0\t1\t1\n"
     ]
    }
   ],
   "source": [
    "adapter = \"AGATCGGAAGAGCGTCGTG\"\n",
    "cutadapt_out = \"{name}.cutadapt.fastq\".format(name=name)\n",
    "\n",
    "!$cutadapt -a $adapter --max-n 0 --trimmed-only -e 0.1 -q 30 -m 30 --trim-n -o $cutadapt_out $UMI_out"
   ]
  },
  {
   "attachments": {},
   "cell_type": "markdown",
   "metadata": {},
   "source": [
    "### 2. Mapping"
   ]
  },
  {
   "cell_type": "code",
   "execution_count": 9,
   "metadata": {},
   "outputs": [
    {
     "name": "stdout",
     "output_type": "stream",
     "text": [
      "[2023-05-31 13:53:15]Converting test1.cutadapt.fastq, A2G...\n",
      "[2023-05-31 13:53:17]Mapping with hisat2, TEMP prefix: hisat2_1656433\n",
      "[2023-05-31 13:53:42]T2C report:\n",
      "[2023-05-31 13:53:45]A2G report:\n",
      "[2023-05-31 13:53:45]Handling SAM outputs...\n",
      "[2023-05-31 13:54:19]Completed successfully:\n",
      " Total reads: 792964\n",
      " Unique mapping: 364271 (45.938%)\n",
      "   A2G: 180279 (22.73%)\n",
      "   T2C: 183992 (23.20%)\n",
      " Multiple mapping: 109195 (13.770%)\n",
      " Unmapped: 319498 (40.292%)\n"
     ]
    }
   ],
   "source": [
    "!$python $hisat2_script -F $cutadapt_out -o hisat2_genome -I $ref_genome_index --index-prefix HISAT2 --hisat2-path $hisat2_path --del-convert --del-sam"
   ]
  },
  {
   "cell_type": "code",
   "execution_count": 10,
   "metadata": {},
   "outputs": [
    {
     "name": "stdout",
     "output_type": "stream",
     "text": [
      "[bam_sort_core] merging from 0 files and 4 in-memory blocks...\r\n"
     ]
    }
   ],
   "source": [
    "!$samtools sort -@ 4 -m 4G -o hisat2_genome.sorted.bam hisat2_genome.bam"
   ]
  },
  {
   "cell_type": "code",
   "execution_count": 11,
   "metadata": {},
   "outputs": [],
   "source": [
    "!$samtools index hisat2_genome.sorted.bam"
   ]
  },
  {
   "cell_type": "code",
   "execution_count": 12,
   "metadata": {},
   "outputs": [],
   "source": [
    "!$umitools dedup --stdin=hisat2_genome.sorted.bam --log=umi.logs --method=unique > hisat2_genome.sorted.umi.bam"
   ]
  },
  {
   "cell_type": "code",
   "execution_count": 13,
   "metadata": {},
   "outputs": [
    {
     "name": "stdout",
     "output_type": "stream",
     "text": [
      "[bam_sort_core] merging from 0 files and 4 in-memory blocks...\r\n"
     ]
    }
   ],
   "source": [
    "!samtools sort -@ 4 -m 4G -o hisat2_genome.sorted.umi.sorted.bam  hisat2_genome.sorted.umi.bam"
   ]
  },
  {
   "cell_type": "code",
   "execution_count": 14,
   "metadata": {},
   "outputs": [],
   "source": [
    "!samtools index hisat2_genome.sorted.umi.sorted.bam"
   ]
  },
  {
   "attachments": {},
   "cell_type": "markdown",
   "metadata": {},
   "source": [
    "### 3. Pileup"
   ]
  },
  {
   "cell_type": "code",
   "execution_count": 15,
   "metadata": {},
   "outputs": [
    {
     "name": "stdout",
     "output_type": "stream",
     "text": [
      "[2023-05-31 13:54:42] Pileup genome, processers: 10, pid: 1656821\n",
      "[2023-05-31 13:57:30] Merging TEMPs\n",
      "[2023-05-31 13:57:35] Genome pileup finished.\n"
     ]
    }
   ],
   "source": [
    "pileup_output = \"{}.pileups.tmp\".format(name)\n",
    "!$python $pileup_script -P $pileup_processors -i hisat2_genome.sorted.umi.sorted.bam -o $pileup_output -f $ref_genome"
   ]
  },
  {
   "attachments": {},
   "cell_type": "markdown",
   "metadata": {},
   "source": [
    "### 4. Format output"
   ]
  },
  {
   "cell_type": "code",
   "execution_count": 16,
   "metadata": {},
   "outputs": [
    {
     "name": "stdout",
     "output_type": "stream",
     "text": [
      "[2023-05-31 13:57:35] Reading input...\n",
      "[2023-05-31 13:57:42] 1000000 items processed...\n",
      "[2023-05-31 13:57:49] 2000000 items processed...\n",
      "[2023-05-31 13:57:55] 3000000 items processed...\n",
      "[2023-05-31 13:58:02] 4000000 items processed...\n",
      "[2023-05-31 13:58:08] 5000000 items processed...\n",
      "[2023-05-31 13:58:14] 6000000 items processed...\n",
      "[2023-05-31 13:58:21] 7000000 items processed...\n",
      "[2023-05-31 13:58:27] 8000000 items processed...\n",
      "[2023-05-31 13:58:33] 9000000 items processed...\n",
      "[2023-05-31 13:58:40] 10000000 items processed...\n",
      "[2023-05-31 13:58:46] 11000000 items processed...\n",
      "[2023-05-31 13:58:52] 12000000 items processed...\n",
      "[2023-05-31 13:58:59] 13000000 items processed...\n",
      "[2023-05-31 13:59:05] 14000000 items processed...\n",
      "[2023-05-31 13:59:11] 15000000 items processed...\n",
      "[2023-05-31 13:59:17] 16000000 items processed...\n",
      "[2023-05-31 13:59:23] 17000000 items processed...\n",
      "[2023-05-31 13:59:30] 18000000 items processed...\n",
      "[2023-05-31 13:59:36] 19000000 items processed...\n",
      "[2023-05-31 13:59:42] 20000000 items processed...\n",
      "[2023-05-31 13:59:48] 21000000 items processed...\n",
      "[2023-05-31 13:59:55] 22000000 items processed...\n",
      "[2023-05-31 14:00:01] 23000000 items processed...\n",
      "[2023-05-31 14:00:07] 24000000 items processed...\n",
      "[2023-05-31 14:00:14] 25000000 items processed...\n",
      "[2023-05-31 14:00:21] 26000000 items processed...\n",
      "[2023-05-31 14:00:27] 27000000 items processed...\n",
      "[2023-05-31 14:00:33] 28000000 items processed...\n",
      "[2023-05-31 14:00:40] 29000000 items processed...\n",
      "[2023-05-31 14:00:46] 30000000 items processed...\n",
      "[2023-05-31 14:00:53] 31000000 items processed...\n",
      "[2023-05-31 14:00:59] 32000000 items processed...\n",
      "[2023-05-31 14:01:05] 33000000 items processed...\n",
      "[2023-05-31 14:01:11] 34000000 items processed...\n",
      "[2023-05-31 14:01:17] 35000000 items processed...\n",
      "[2023-05-31 14:01:24] 36000000 items processed...\n",
      "[2023-05-31 14:01:30] 37000000 items processed...\n",
      "[2023-05-31 14:01:36] 38000000 items processed...\n",
      "[2023-05-31 14:01:43] 39000000 items processed...\n",
      "[2023-05-31 14:01:49] 40000000 items processed...\n",
      "[2023-05-31 14:01:55] 41000000 items processed...\n",
      "[2023-05-31 14:02:01] 42000000 items processed...\n",
      "[2023-05-31 14:02:07] 43000000 items processed...\n",
      "[2023-05-31 14:02:14] 44000000 items processed...\n",
      "[2023-05-31 14:02:20] 45000000 items processed...\n",
      "[2023-05-31 14:02:27] 46000000 items processed...\n",
      "[2023-05-31 14:02:33] 47000000 items processed...\n",
      "[2023-05-31 14:02:39] 48000000 items processed...\n",
      "[2023-05-31 14:02:45] 49000000 items processed...\n",
      "[2023-05-31 14:02:51] 50000000 items processed...\n",
      "[2023-05-31 14:02:59] 51000000 items processed...\n",
      "[2023-05-31 14:03:05] 52000000 items processed...\n",
      "[2023-05-31 14:03:11] 53000000 items processed...\n",
      "[2023-05-31 14:03:17] 54000000 items processed...\n",
      "[2023-05-31 14:03:23] 55000000 items processed...\n",
      "[2023-05-31 14:03:29] 56000000 items processed...\n",
      "[2023-05-31 14:03:36] 57000000 items processed...\n",
      "[2023-05-31 14:03:42] 58000000 items processed...\n",
      "[2023-05-31 14:03:48] 59000000 items processed...\n",
      "[2023-05-31 14:03:54] 60000000 items processed...\n",
      "[2023-05-31 14:04:00] 61000000 items processed...\n",
      "[2023-05-31 14:04:06] 62000000 items processed...\n",
      "[2023-05-31 14:04:12] 63000000 items processed...\n",
      "[2023-05-31 14:04:19] 64000000 items processed...\n",
      "[2023-05-31 14:04:25] 65000000 items processed...\n",
      "[2023-05-31 14:04:31] 66000000 items processed...\n",
      "[2023-05-31 14:04:37] 67000000 items processed...\n",
      "[2023-05-31 14:04:43] 68000000 items processed...\n",
      "[2023-05-31 14:04:50] 69000000 items processed...\n",
      "[2023-05-31 14:04:56] 70000000 items processed...\n",
      "[2023-05-31 14:05:02] 71000000 items processed...\n",
      "[2023-05-31 14:05:08] 72000000 items processed...\n",
      "[2023-05-31 14:05:14] 73000000 items processed...\n",
      "[2023-05-31 14:05:21] 74000000 items processed...\n",
      "[2023-05-31 14:05:27] 75000000 items processed...\n",
      "[2023-05-31 14:05:33] 76000000 items processed...\n",
      "[2023-05-31 14:05:39] 77000000 items processed...\n",
      "[2023-05-31 14:05:45] 78000000 items processed...\n",
      "[2023-05-31 14:05:51] 79000000 items processed...\n",
      "[2023-05-31 14:05:57] 80000000 items processed...\n",
      "[2023-05-31 14:06:04] 81000000 items processed...\n",
      "[2023-05-31 14:06:10] 82000000 items processed...\n",
      "[2023-05-31 14:06:16] 83000000 items processed...\n",
      "[2023-05-31 14:06:23] 84000000 items processed...\n",
      "[2023-05-31 14:06:29] 85000000 items processed...\n",
      "[2023-05-31 14:06:35] 86000000 items processed...\n",
      "[2023-05-31 14:06:42] 87000000 items processed...\n",
      "[2023-05-31 14:06:48] 88000000 items processed...\n",
      "[2023-05-31 14:06:54] 89000000 items processed...\n",
      "[2023-05-31 14:07:01] 90000000 items processed...\n",
      "[2023-05-31 14:07:07] 91000000 items processed...\n",
      "[2023-05-31 14:07:13] 92000000 items processed...\n",
      "[2023-05-31 14:07:19] 93000000 items processed...\n",
      "[2023-05-31 14:07:26] 94000000 items processed...\n",
      "[2023-05-31 14:07:32] 95000000 items processed...\n",
      "[2023-05-31 14:07:38] 96000000 items processed...\n",
      "[2023-05-31 14:07:44] 97000000 items processed...\n",
      "[2023-05-31 14:07:51] 98000000 items processed...\n",
      "[2023-05-31 14:07:57] 99000000 items processed...\n",
      "[2023-05-31 14:08:03] 100000000 items processed...\n",
      "[2023-05-31 14:08:09] 101000000 items processed...\n",
      "[2023-05-31 14:08:18] 102000000 items processed...\n",
      "[2023-05-31 14:08:24] 103000000 items processed...\n",
      "[2023-05-31 14:08:31] 104000000 items processed...\n",
      "[2023-05-31 14:08:37] 105000000 items processed...\n",
      "[2023-05-31 14:08:44] 106000000 items processed...\n",
      "[2023-05-31 14:08:50] 107000000 items processed...\n",
      "[2023-05-31 14:08:56] 108000000 items processed...\n",
      "[2023-05-31 14:09:03] 109000000 items processed...\n",
      "[2023-05-31 14:09:09] 110000000 items processed...\n",
      "[2023-05-31 14:09:15] 111000000 items processed...\n",
      "[2023-05-31 14:09:22] 112000000 items processed...\n",
      "[2023-05-31 14:09:28] 113000000 items processed...\n",
      "[2023-05-31 14:09:34] 114000000 items processed...\n",
      "[2023-05-31 14:09:40] 115000000 items processed...\n",
      "[2023-05-31 14:09:47] 116000000 items processed...\n",
      "[2023-05-31 14:09:53] 117000000 items processed...\n",
      "[2023-05-31 14:09:59] 118000000 items processed...\n",
      "[2023-05-31 14:10:05] 119000000 items processed...\n",
      "[2023-05-31 14:10:12] 120000000 items processed...\n",
      "[2023-05-31 14:10:18] 121000000 items processed...\n",
      "[2023-05-31 14:10:24] 122000000 items processed...\n",
      "[2023-05-31 14:10:30] 123000000 items processed...\n",
      "[2023-05-31 14:10:37] 124000000 items processed...\n",
      "[2023-05-31 14:10:43] 125000000 items processed...\n",
      "[2023-05-31 14:10:49] 126000000 items processed...\n",
      "[2023-05-31 14:10:56] 127000000 items processed...\n",
      "[2023-05-31 14:11:02] 128000000 items processed...\n",
      "[2023-05-31 14:11:08] 129000000 items processed...\n",
      "[2023-05-31 14:11:15] 130000000 items processed...\n",
      "[2023-05-31 14:11:21] 131000000 items processed...\n",
      "[2023-05-31 14:11:27] 132000000 items processed...\n",
      "[2023-05-31 14:11:34] 133000000 items processed...\n",
      "[2023-05-31 14:11:40] 134000000 items processed...\n",
      "[2023-05-31 14:11:46] 135000000 items processed...\n",
      "[2023-05-31 14:11:52] 136000000 items processed...\n",
      "[2023-05-31 14:11:58] 137000000 items processed...\n",
      "[2023-05-31 14:12:05] 138000000 items processed...\n",
      "[2023-05-31 14:12:11] 139000000 items processed...\n",
      "[2023-05-31 14:12:18] 140000000 items processed...\n",
      "[2023-05-31 14:12:24] 141000000 items processed...\n",
      "[2023-05-31 14:12:30] 142000000 items processed...\n",
      "[2023-05-31 14:12:36] 143000000 items processed...\n",
      "[2023-05-31 14:12:43] 144000000 items processed...\n",
      "[2023-05-31 14:12:49] 145000000 items processed...\n",
      "[2023-05-31 14:12:55] 146000000 items processed...\n",
      "[2023-05-31 14:13:01] 147000000 items processed...\n",
      "[2023-05-31 14:13:08] 148000000 items processed...\n",
      "[2023-05-31 14:13:14] 149000000 items processed...\n",
      "[2023-05-31 14:13:21] 150000000 items processed...\n",
      "[2023-05-31 14:13:28] 151000000 items processed...\n",
      "[2023-05-31 14:13:34] 152000000 items processed...\n",
      "[2023-05-31 14:13:40] 153000000 items processed...\n",
      "[2023-05-31 14:13:46] All loaded. Creating index...\n",
      "[2023-05-31 14:16:05] All finished!\n",
      "[2023-05-31 14:16:05] In-memory database connection setup\n",
      "[2023-05-31 14:18:43] Finished reading input.\n",
      "[2023-05-31 14:18:43] Calculating conversion rates...\n",
      "[2023-05-31 14:18:44] All finished!\n"
     ]
    }
   ],
   "source": [
    "format_output = \"{}.pileups.txt\".format(name)\n",
    "format_output_CR = \"{}.pileups.CR\".format(name)\n",
    "\n",
    "!$python $formater_script -i $pileup_output -o $format_output  --CR $format_output_CR --db $db"
   ]
  },
  {
   "attachments": {},
   "cell_type": "markdown",
   "metadata": {},
   "source": [
    "Output file: test1.pileups.txt"
   ]
  },
  {
   "attachments": {},
   "cell_type": "markdown",
   "metadata": {},
   "source": [
    "### 5. Clean up to save disk (optional)"
   ]
  },
  {
   "attachments": {},
   "cell_type": "markdown",
   "metadata": {},
   "source": [
    "### 6. When and where am I"
   ]
  },
  {
   "cell_type": "code",
   "execution_count": 17,
   "metadata": {},
   "outputs": [
    {
     "name": "stdout",
     "output_type": "stream",
     "text": [
      "/home/fox/Jupyter/GLORI_Yi_lab/Jupyter_notebook/test1_run\n",
      "total 1303912\n",
      "-rw-rw-r-- 1 fox fox  22301784 May 31 13:54 hisat2_genome.bam\n",
      "-rw-rw-r-- 1 fox fox  14993247 May 31 13:54 hisat2_genome.multimappers.bam\n",
      "-rw-rw-r-- 1 fox fox  19734283 May 31 13:54 hisat2_genome.sorted.bam\n",
      "-rw-rw-r-- 1 fox fox   2057080 May 31 13:54 hisat2_genome.sorted.bam.bai\n",
      "-rw-rw-r-- 1 fox fox  19247833 May 31 13:54 hisat2_genome.sorted.umi.bam\n",
      "-rw-rw-r-- 1 fox fox  19247857 May 31 13:54 hisat2_genome.sorted.umi.sorted.bam\n",
      "-rw-rw-r-- 1 fox fox   2057224 May 31 13:54 hisat2_genome.sorted.umi.sorted.bam.bai\n",
      "-rw-rw-r-- 1 fox fox 121574682 May 31 13:53 test1.cutadapt.fastq\n",
      "-rw-rw-r-- 1 fox fox  66394256 May 31 13:54 test1.cutadapt.unmapped.fastq\n",
      "-rw-rw-r-- 1 fox fox    580769 May 31 14:18 test1.pileups.CR\n",
      "-rw-rw-r-- 1 fox fox 359568106 May 31 13:57 test1.pileups.tmp\n",
      "-rw-rw-r-- 1 fox fox 353750781 May 31 14:18 test1.pileups.txt\n",
      "-rw-rw-r-- 1 fox fox 333622434 May 31 13:52 test1.UMI.fastq\n",
      "-rw-rw-r-- 1 fox fox     22567 May 31 13:52 test1.UMI.log\n",
      "-rw-rw-r-- 1 fox fox     15396 May 31 13:54 umi.logs\n"
     ]
    }
   ],
   "source": [
    "!pwd -P\n",
    "!ls -l"
   ]
  },
  {
   "cell_type": "code",
   "execution_count": 18,
   "metadata": {},
   "outputs": [
    {
     "name": "stdout",
     "output_type": "stream",
     "text": [
      "Finished: 05/31/23 14:18:51\n"
     ]
    }
   ],
   "source": [
    "now = datetime.now()\n",
    "current_time = now.strftime(\"%D %H:%M:%S\")\n",
    "print(\"Finished:\", current_time)"
   ]
  },
  {
   "attachments": {},
   "cell_type": "markdown",
   "metadata": {},
   "source": [
    "## Don't forget to save the Notebook."
   ]
  }
 ],
 "metadata": {
  "kernelspec": {
   "display_name": "Python 3 (ipykernel)",
   "language": "python",
   "name": "python3"
  },
  "language_info": {
   "codemirror_mode": {
    "name": "ipython",
    "version": 3
   },
   "file_extension": ".py",
   "mimetype": "text/x-python",
   "name": "python",
   "nbconvert_exporter": "python",
   "pygments_lexer": "ipython3",
   "version": "3.9.14"
  }
 },
 "nbformat": 4,
 "nbformat_minor": 2
}
